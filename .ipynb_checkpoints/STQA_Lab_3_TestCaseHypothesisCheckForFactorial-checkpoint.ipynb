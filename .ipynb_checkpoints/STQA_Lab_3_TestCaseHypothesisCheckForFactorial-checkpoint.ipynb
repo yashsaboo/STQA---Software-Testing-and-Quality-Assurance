{
 "cells": [
  {
   "cell_type": "code",
   "execution_count": null,
   "metadata": {},
   "outputs": [],
   "source": [
    "# Write a program to find factorial of a number. \n",
    "# Write different number of test cases, expected output and compare it with the actual output."
   ]
  },
  {
   "cell_type": "code",
   "execution_count": 1,
   "metadata": {},
   "outputs": [
    {
     "name": "stdout",
     "output_type": "stream",
     "text": [
      "20\n"
     ]
    }
   ],
   "source": [
    "input_str = input()\n",
    "tokens = input_str.split()\n",
    "a = int(tokens[0])"
   ]
  },
  {
   "cell_type": "code",
   "execution_count": 2,
   "metadata": {},
   "outputs": [
    {
     "name": "stdout",
     "output_type": "stream",
     "text": [
      "Factorial: 2432902008176640000\n"
     ]
    }
   ],
   "source": [
    "temp = 1\n",
    "for i in range(1, a+1):\n",
    "    temp=temp*i\n",
    "    \n",
    "print(\"Factorial:\", temp)"
   ]
  },
  {
   "cell_type": "code",
   "execution_count": null,
   "metadata": {},
   "outputs": [],
   "source": []
  }
 ],
 "metadata": {
  "kernelspec": {
   "display_name": "Python 3",
   "language": "python",
   "name": "python3"
  },
  "language_info": {
   "codemirror_mode": {
    "name": "ipython",
    "version": 3
   },
   "file_extension": ".py",
   "mimetype": "text/x-python",
   "name": "python",
   "nbconvert_exporter": "python",
   "pygments_lexer": "ipython3",
   "version": "3.6.7"
  }
 },
 "nbformat": 4,
 "nbformat_minor": 2
}

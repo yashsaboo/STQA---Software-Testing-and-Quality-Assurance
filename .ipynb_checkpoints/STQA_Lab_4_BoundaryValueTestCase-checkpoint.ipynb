{
 "cells": [
  {
   "cell_type": "code",
   "execution_count": null,
   "metadata": {},
   "outputs": [],
   "source": [
    "# Consider a program for the determination of the nature of roots of a quadratic equation, \n",
    "# its input is a triple of positive integers and value from interval 0 to 100. \n",
    "# The program output may have one of the following words- not a quadratic equation, real roots, imaginary roots and equal roots. \n",
    "# Design boundary value test cases"
   ]
  },
  {
   "cell_type": "code",
   "execution_count": 2,
   "metadata": {},
   "outputs": [],
   "source": [
    "a = 3\n",
    "b = 3\n",
    "c = 4"
   ]
  },
  {
   "cell_type": "code",
   "execution_count": 9,
   "metadata": {},
   "outputs": [],
   "source": [
    "def printabc(a, b, c):\n",
    "    print(\"a=\",a)\n",
    "    print(\"b=\",c)\n",
    "    print(\"c=\",c)\n",
    "\n",
    "def findNatureOfTheroots(a, b, c):\n",
    "#     printabc(a,b,c)\n",
    "    d = b*b - 4*a*c\n",
    "    if a==0:\n",
    "        print(\"Not a quadratic equation\")\n",
    "    elif d==0:\n",
    "        print(\"Real and Equal roots\")\n",
    "    elif d<0:\n",
    "        print(\"Imaginary roots\")\n",
    "    else:\n",
    "        print(\"Real and Unequal roots\")"
   ]
  },
  {
   "cell_type": "code",
   "execution_count": 10,
   "metadata": {},
   "outputs": [
    {
     "name": "stdout",
     "output_type": "stream",
     "text": [
      "Not a quadratic equation\n",
      "Real and Unequal roots\n",
      "Imaginary roots\n",
      "Imaginary roots\n",
      "Imaginary roots\n",
      "Imaginary roots\n",
      "Real and Equal roots\n",
      "Imaginary roots\n",
      "Real and Unequal roots\n",
      "Real and Unequal roots\n",
      "Imaginary roots\n",
      "Imaginary roots\n",
      "Imaginary roots\n"
     ]
    }
   ],
   "source": [
    "min = 0\n",
    "max = 100\n",
    "nom = 50\n",
    "\n",
    "findNatureOfTheroots(min, nom, nom)\n",
    "findNatureOfTheroots(min+1, nom, nom)\n",
    "findNatureOfTheroots(max, nom, nom)\n",
    "findNatureOfTheroots(max-1, nom, nom)\n",
    "\n",
    "findNatureOfTheroots(nom, min, nom)\n",
    "findNatureOfTheroots(nom, min+1, nom)\n",
    "findNatureOfTheroots(nom, max, nom)\n",
    "findNatureOfTheroots(nom, max-1, nom)\n",
    "\n",
    "findNatureOfTheroots(nom, nom, min)\n",
    "findNatureOfTheroots(nom, nom, min+1)\n",
    "findNatureOfTheroots(nom, nom, max)\n",
    "findNatureOfTheroots(nom, nom, max-1)\n",
    "\n",
    "findNatureOfTheroots(nom, nom, nom)"
   ]
  },
  {
   "cell_type": "code",
   "execution_count": null,
   "metadata": {},
   "outputs": [],
   "source": []
  }
 ],
 "metadata": {
  "kernelspec": {
   "display_name": "Python 3",
   "language": "python",
   "name": "python3"
  },
  "language_info": {
   "codemirror_mode": {
    "name": "ipython",
    "version": 3
   },
   "file_extension": ".py",
   "mimetype": "text/x-python",
   "name": "python",
   "nbconvert_exporter": "python",
   "pygments_lexer": "ipython3",
   "version": "3.6.7"
  }
 },
 "nbformat": 4,
 "nbformat_minor": 2
}

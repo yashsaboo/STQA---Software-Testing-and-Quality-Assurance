{
 "cells": [
  {
   "cell_type": "code",
   "execution_count": null,
   "metadata": {},
   "outputs": [],
   "source": [
    "# Consider a program to classify the triangle. \n",
    "# Its input is a triple of positive integers x,y and z and the data type of input parameters ensures that these will be integers greater than 0 and less than or equal to 100. \n",
    "# The program output can be: Scalene, isosceles, equilateral or not a triangle. \n",
    "# Generate robust test case for this problem."
   ]
  },
  {
   "cell_type": "code",
   "execution_count": 22,
   "metadata": {
    "colab": {},
    "colab_type": "code",
    "id": "OTcQgNfqbrpT"
   },
   "outputs": [],
   "source": [
    "def checkTraingle(a,b,c):\n",
    "    if (a+b<c)or(a+c<b)or(b+c<a):\n",
    "        return(\"Not a Triangle\");  \n",
    "    elif (a==b)and(b==c):\n",
    "        return(\"Equilateral Triangle\");\n",
    "    elif ((a==b)and(b!=c))or((a==c)and(b!=c))or((c==b)and(b!=a)):\n",
    "        return(\"Isosceles Triangle\");\n",
    "    else:\n",
    "        return(\"Scalele Triangle\");"
   ]
  },
  {
   "cell_type": "code",
   "execution_count": 23,
   "metadata": {},
   "outputs": [],
   "source": [
    "def printTestCases(x, nom1, nom2, nom3):\n",
    "    print(\"a=\",x,\"\\tb=\",nom2,\"\\tc=\",nom3,\"\\tres=\",checkTraingle(x,nom2,nom3));\n",
    "    print(\"a=\",nom1,\"\\tb=\",x,\"\\tc=\",nom3,\"\\tres=\",checkTraingle(nom1,x,nom3));\n",
    "    print(\"a=\",nom1,\"\\tb=\",nom2,\"\\tc=\",x,\"\\tres=\",checkTraingle(nom1,nom2,x));"
   ]
  },
  {
   "cell_type": "code",
   "execution_count": 24,
   "metadata": {
    "colab": {
     "base_uri": "https://localhost:8080/",
     "height": 357
    },
    "colab_type": "code",
    "id": "8yyj5WXSftg2",
    "outputId": "e5a50892-3793-4a3b-b1ac-a67a6fa0efd6"
   },
   "outputs": [
    {
     "name": "stdout",
     "output_type": "stream",
     "text": [
      "a= 1 \tb= 50 \tc= 50 \tres= Isosceles Triangle\n",
      "a= 50 \tb= 1 \tc= 50 \tres= Isosceles Triangle\n",
      "a= 50 \tb= 50 \tc= 1 \tres= Isosceles Triangle\n",
      "a= 2 \tb= 50 \tc= 50 \tres= Isosceles Triangle\n",
      "a= 50 \tb= 2 \tc= 50 \tres= Isosceles Triangle\n",
      "a= 50 \tb= 50 \tc= 2 \tres= Isosceles Triangle\n",
      "a= 0 \tb= 50 \tc= 50 \tres= Isosceles Triangle\n",
      "a= 50 \tb= 0 \tc= 50 \tres= Isosceles Triangle\n",
      "a= 50 \tb= 50 \tc= 0 \tres= Isosceles Triangle\n",
      "a= 100 \tb= 50 \tc= 50 \tres= Isosceles Triangle\n",
      "a= 50 \tb= 100 \tc= 50 \tres= Isosceles Triangle\n",
      "a= 50 \tb= 50 \tc= 100 \tres= Isosceles Triangle\n",
      "a= 101 \tb= 50 \tc= 50 \tres= Not a Triangle\n",
      "a= 50 \tb= 101 \tc= 50 \tres= Not a Triangle\n",
      "a= 50 \tb= 50 \tc= 101 \tres= Not a Triangle\n",
      "a= 99 \tb= 50 \tc= 50 \tres= Isosceles Triangle\n",
      "a= 50 \tb= 99 \tc= 50 \tres= Isosceles Triangle\n",
      "a= 50 \tb= 50 \tc= 99 \tres= Isosceles Triangle\n",
      "a= 50 \tb= 50 \tc= 50 \tres= Equilateral Triangle\n"
     ]
    }
   ],
   "source": [
    "min=1;\n",
    "max=100;\n",
    "nom1 = nom2 = nom3 = 50;\n",
    "\n",
    "printTestCases(min, nom1, nom2, nom3)\n",
    "printTestCases(min+1, nom1, nom2, nom3)\n",
    "printTestCases(min-1, nom1, nom2, nom3)\n",
    "printTestCases(max, nom1, nom2, nom3)\n",
    "printTestCases(max+1, nom1, nom2, nom3)\n",
    "printTestCases(max-1, nom1, nom2, nom3) \n",
    "print(\"a=\",nom1,\"\\tb=\",nom2,\"\\tc=\",nom3,\"\\tres=\",checkTraingle(nom1,nom2,nom3));"
   ]
  },
  {
   "cell_type": "code",
   "execution_count": null,
   "metadata": {
    "colab": {},
    "colab_type": "code",
    "id": "Bw_c-wb5ft-p"
   },
   "outputs": [],
   "source": []
  },
  {
   "cell_type": "code",
   "execution_count": 0,
   "metadata": {
    "colab": {},
    "colab_type": "code",
    "id": "lC7Ncj84fuEW"
   },
   "outputs": [],
   "source": []
  },
  {
   "cell_type": "code",
   "execution_count": 0,
   "metadata": {
    "colab": {},
    "colab_type": "code",
    "id": "EtEsQNhcfuCW"
   },
   "outputs": [],
   "source": []
  }
 ],
 "metadata": {
  "colab": {
   "name": "STQA Assignment 5.ipynb",
   "provenance": [],
   "version": "0.3.2"
  },
  "kernelspec": {
   "display_name": "Python 3",
   "language": "python",
   "name": "python3"
  },
  "language_info": {
   "codemirror_mode": {
    "name": "ipython",
    "version": 3
   },
   "file_extension": ".py",
   "mimetype": "text/x-python",
   "name": "python",
   "nbconvert_exporter": "python",
   "pygments_lexer": "ipython3",
   "version": "3.6.7"
  }
 },
 "nbformat": 4,
 "nbformat_minor": 1
}

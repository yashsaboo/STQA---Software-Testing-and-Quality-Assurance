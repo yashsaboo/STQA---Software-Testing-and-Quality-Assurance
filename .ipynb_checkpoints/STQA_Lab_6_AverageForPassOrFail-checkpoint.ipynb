{
 "cells": [
  {
   "cell_type": "code",
   "execution_count": null,
   "metadata": {},
   "outputs": [],
   "source": [
    "# Write a program that accepts marks of 20 students of 5 subjects and outputs the average and pass/fail message.\n",
    "# Compute the following:\n",
    "# a. Draw flow graph\n",
    "# b. Draw DD graph and connection matrix\n",
    "# c. Compute cyclomatic complexity\n",
    "# d. Identify independent paths"
   ]
  },
  {
   "cell_type": "code",
   "execution_count": 0,
   "metadata": {
    "colab": {},
    "colab_type": "code",
    "id": "PFRJLsgpcy1u"
   },
   "outputs": [],
   "source": [
    "import random"
   ]
  },
  {
   "cell_type": "code",
   "execution_count": 0,
   "metadata": {
    "colab": {},
    "colab_type": "code",
    "id": "McqnaIs_JJjc"
   },
   "outputs": [],
   "source": [
    "import csv\n",
    "marks = read_csv(“/marks.csv”)\n",
    "res = []\n",
    "resDummy = []\n",
    "avg = []\n",
    "avgDummy = 0\n",
    "for i in range(20):\n",
    "  for j in range(5):\n",
    "    avgDummy = avgDummy + marks[i][j]\n",
    "    if marks[i][j] < 40:\n",
    "      resDummy.append(\"F\")\n",
    "    else:      resDummy.append(\"P\")\n",
    "  #For Loop End\n",
    "  avg.append(avgDummy/5)\n",
    "  res.append(resDummy)\n",
    "  resDummy = []\n",
    "  avgDummy = 0\n",
    "end()"
   ]
  },
  {
   "cell_type": "code",
   "execution_count": 18,
   "metadata": {
    "colab": {
     "base_uri": "https://localhost:8080/",
     "height": 353
    },
    "colab_type": "code",
    "executionInfo": {
     "elapsed": 1486,
     "status": "ok",
     "timestamp": 1553275651722,
     "user": {
      "displayName": "yash saboo",
      "photoUrl": "https://lh5.googleusercontent.com/-j0O-8FwSgU8/AAAAAAAAAAI/AAAAAAAAACg/pEXjX1qhauo/s64/photo.jpg",
      "userId": "11757267231717315760"
     },
     "user_tz": -330
    },
    "id": "doutzHnYLOpg",
    "outputId": "05f6a274-b85a-4c83-cbd0-9a36f8ea66a0"
   },
   "outputs": [
    {
     "data": {
      "text/plain": [
       "[['F', 'P', 'F', 'P', 'P'],\n",
       " ['P', 'P', 'F', 'P', 'P'],\n",
       " ['P', 'P', 'F', 'F', 'F'],\n",
       " ['P', 'F', 'P', 'P', 'F'],\n",
       " ['P', 'F', 'P', 'F', 'P'],\n",
       " ['P', 'P', 'P', 'F', 'P'],\n",
       " ['P', 'P', 'F', 'P', 'F'],\n",
       " ['P', 'F', 'P', 'F', 'F'],\n",
       " ['P', 'P', 'F', 'F', 'P'],\n",
       " ['P', 'P', 'F', 'F', 'P'],\n",
       " ['F', 'F', 'P', 'P', 'F'],\n",
       " ['F', 'P', 'F', 'P', 'P'],\n",
       " ['P', 'P', 'P', 'F', 'P'],\n",
       " ['P', 'F', 'F', 'P', 'F'],\n",
       " ['F', 'P', 'P', 'P', 'P'],\n",
       " ['P', 'P', 'F', 'P', 'P'],\n",
       " ['P', 'F', 'P', 'P', 'F'],\n",
       " ['F', 'F', 'P', 'P', 'P'],\n",
       " ['P', 'F', 'P', 'F', 'F'],\n",
       " ['P', 'P', 'F', 'P', 'P']]"
      ]
     },
     "execution_count": 18,
     "metadata": {
      "tags": []
     },
     "output_type": "execute_result"
    }
   ],
   "source": [
    "res"
   ]
  },
  {
   "cell_type": "code",
   "execution_count": 19,
   "metadata": {
    "colab": {
     "base_uri": "https://localhost:8080/",
     "height": 353
    },
    "colab_type": "code",
    "executionInfo": {
     "elapsed": 1377,
     "status": "ok",
     "timestamp": 1553275655762,
     "user": {
      "displayName": "yash saboo",
      "photoUrl": "https://lh5.googleusercontent.com/-j0O-8FwSgU8/AAAAAAAAAAI/AAAAAAAAACg/pEXjX1qhauo/s64/photo.jpg",
      "userId": "11757267231717315760"
     },
     "user_tz": -330
    },
    "id": "iGfmH9DoLW8X",
    "outputId": "6a198f56-0aae-4dad-cb18-131674cb3dfa"
   },
   "outputs": [
    {
     "data": {
      "text/plain": [
       "[[8, 59, 24, 57, 41],\n",
       " [79, 62, 14, 66, 40],\n",
       " [48, 49, 5, 35, 33],\n",
       " [97, 19, 52, 71, 3],\n",
       " [92, 20, 58, 21, 46],\n",
       " [84, 56, 84, 25, 90],\n",
       " [55, 90, 15, 59, 17],\n",
       " [52, 22, 86, 36, 9],\n",
       " [62, 52, 5, 16, 58],\n",
       " [95, 55, 1, 9, 99],\n",
       " [11, 26, 53, 62, 34],\n",
       " [8, 43, 8, 47, 59],\n",
       " [51, 61, 46, 17, 50],\n",
       " [60, 1, 25, 85, 36],\n",
       " [28, 89, 99, 80, 88],\n",
       " [66, 90, 37, 84, 41],\n",
       " [86, 13, 87, 64, 32],\n",
       " [15, 16, 69, 83, 59],\n",
       " [44, 37, 55, 25, 15],\n",
       " [69, 57, 13, 78, 41]]"
      ]
     },
     "execution_count": 19,
     "metadata": {
      "tags": []
     },
     "output_type": "execute_result"
    }
   ],
   "source": [
    "marks"
   ]
  },
  {
   "cell_type": "code",
   "execution_count": 20,
   "metadata": {
    "colab": {
     "base_uri": "https://localhost:8080/",
     "height": 353
    },
    "colab_type": "code",
    "executionInfo": {
     "elapsed": 1388,
     "status": "ok",
     "timestamp": 1553275659992,
     "user": {
      "displayName": "yash saboo",
      "photoUrl": "https://lh5.googleusercontent.com/-j0O-8FwSgU8/AAAAAAAAAAI/AAAAAAAAACg/pEXjX1qhauo/s64/photo.jpg",
      "userId": "11757267231717315760"
     },
     "user_tz": -330
    },
    "id": "aVLspbsWNnnU",
    "outputId": "40b70a97-5564-4d5c-f57c-b6ee87481c55"
   },
   "outputs": [
    {
     "data": {
      "text/plain": [
       "[37.8,\n",
       " 52.2,\n",
       " 34.0,\n",
       " 48.4,\n",
       " 47.4,\n",
       " 67.8,\n",
       " 47.2,\n",
       " 41.0,\n",
       " 38.6,\n",
       " 51.8,\n",
       " 37.2,\n",
       " 33.0,\n",
       " 45.0,\n",
       " 41.4,\n",
       " 76.8,\n",
       " 63.6,\n",
       " 56.4,\n",
       " 48.4,\n",
       " 35.2,\n",
       " 51.6]"
      ]
     },
     "execution_count": 20,
     "metadata": {
      "tags": []
     },
     "output_type": "execute_result"
    }
   ],
   "source": [
    "avg"
   ]
  },
  {
   "cell_type": "code",
   "execution_count": 0,
   "metadata": {
    "colab": {},
    "colab_type": "code",
    "id": "y00sl48sN57Q"
   },
   "outputs": [],
   "source": [
    "for i in range(20):\n",
    "    for j in range(5):\n",
    "        marksDummy.append(random.randint(1,100))\n",
    "    marks.append(marksDummy)\n",
    "    marksDummy=[]"
   ]
  },
  {
   "cell_type": "code",
   "execution_count": 0,
   "metadata": {
    "colab": {},
    "colab_type": "code",
    "id": "6ITRK9iuZ4FF"
   },
   "outputs": [],
   "source": []
  }
 ],
 "metadata": {
  "colab": {
   "name": "Untitled0.ipynb",
   "provenance": [],
   "version": "0.3.2"
  },
  "kernelspec": {
   "display_name": "Python 3",
   "language": "python",
   "name": "python3"
  },
  "language_info": {
   "codemirror_mode": {
    "name": "ipython",
    "version": 3
   },
   "file_extension": ".py",
   "mimetype": "text/x-python",
   "name": "python",
   "nbconvert_exporter": "python",
   "pygments_lexer": "ipython3",
   "version": "3.6.7"
  }
 },
 "nbformat": 4,
 "nbformat_minor": 1
}

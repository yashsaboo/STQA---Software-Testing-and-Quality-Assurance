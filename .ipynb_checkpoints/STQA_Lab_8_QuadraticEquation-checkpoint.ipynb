{
 "cells": [
  {
   "cell_type": "code",
   "execution_count": null,
   "metadata": {},
   "outputs": [],
   "source": [
    "# Write a program for the determination of the nature roots of a quadratic equation; \n",
    "# its input is a triple of positive integers say a, b, and c and value from the interval 0 to 100. \n",
    "# Also, the output may have one of the following word: not a quadratic equation, real roots, imaginary roots, equal roots."
   ]
  },
  {
   "cell_type": "code",
   "execution_count": 0,
   "metadata": {
    "colab": {},
    "colab_type": "code",
    "id": "ou2EkFRt2yds"
   },
   "outputs": [],
   "source": [
    "a = 1\n",
    "b = 2\n",
    "c = 1"
   ]
  },
  {
   "cell_type": "code",
   "execution_count": 4,
   "metadata": {
    "colab": {
     "base_uri": "https://localhost:8080/",
     "height": 84
    },
    "colab_type": "code",
    "executionInfo": {
     "elapsed": 1018,
     "status": "ok",
     "timestamp": 1555145321276,
     "user": {
      "displayName": "yash saboo",
      "photoUrl": "https://lh5.googleusercontent.com/-j0O-8FwSgU8/AAAAAAAAAAI/AAAAAAAAACg/pEXjX1qhauo/s64/photo.jpg",
      "userId": "11757267231717315760"
     },
     "user_tz": -330
    },
    "id": "1SdlEPOb3x6x",
    "outputId": "c2988ecf-a53c-4f9e-815c-b32a4c870640"
   },
   "outputs": [
    {
     "name": "stdout",
     "output_type": "stream",
     "text": [
      "Nature of Quadratic Equation for ax^2 + bx + c\n",
      "\n",
      "The equation has real and equal roots.\n",
      "\n"
     ]
    }
   ],
   "source": [
    "print(\"Nature of Quadratic Equation for ax^2 + bx + c\\n\");\n",
    "\n",
    "if(a == 0):\n",
    "    print(\"Not a quadratic equation.\\n\");\n",
    "elif((b*b-4*a*c) > 0):\n",
    "    print(\"The equation has real and distinct roots.\\n\");\n",
    "elif((b*b-4*a*c) == 0):\n",
    "    print(\"The equation has real and equal roots.\\n\");\n",
    "else:\n",
    "    print(\"The equation has imaginary roots.\\n\");"
   ]
  },
  {
   "cell_type": "code",
   "execution_count": 0,
   "metadata": {
    "colab": {},
    "colab_type": "code",
    "id": "Vgo5UAEo4e8m"
   },
   "outputs": [],
   "source": []
  }
 ],
 "metadata": {
  "colab": {
   "name": "STQA Assignment 8.ipynb",
   "provenance": [],
   "version": "0.3.2"
  },
  "kernelspec": {
   "display_name": "Python 3",
   "language": "python",
   "name": "python3"
  },
  "language_info": {
   "codemirror_mode": {
    "name": "ipython",
    "version": 3
   },
   "file_extension": ".py",
   "mimetype": "text/x-python",
   "name": "python",
   "nbconvert_exporter": "python",
   "pygments_lexer": "ipython3",
   "version": "3.6.7"
  }
 },
 "nbformat": 4,
 "nbformat_minor": 1
}

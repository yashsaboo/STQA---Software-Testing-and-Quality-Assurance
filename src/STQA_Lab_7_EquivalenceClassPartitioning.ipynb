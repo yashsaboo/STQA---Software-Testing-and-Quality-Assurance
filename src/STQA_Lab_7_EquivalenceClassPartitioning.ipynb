{
 "cells": [
  {
   "cell_type": "code",
   "execution_count": null,
   "metadata": {},
   "outputs": [],
   "source": [
    "# Write a program to accept a date and display the previous date with the following range:\n",
    "# • 1<=date<=31\n",
    "# • 1<=month<=12\n",
    "# • 1990<=year<=2025\n",
    "# Create the decision table and create the equivalence class partitioning."
   ]
  },
  {
   "cell_type": "code",
   "execution_count": 0,
   "metadata": {
    "colab": {},
    "colab_type": "code",
    "id": "MXGODuMOyPmI"
   },
   "outputs": [],
   "source": [
    "day = 1\n",
    "month = 3\n",
    "year = 2019\n",
    "\n",
    "monthList = [12,1,2,3,4,5,6,7,8,9,10,11]\n",
    "dayList = [31,27,31,30,31,30,31,31,30,31,30,31]"
   ]
  },
  {
   "cell_type": "code",
   "execution_count": 0,
   "metadata": {
    "colab": {},
    "colab_type": "code",
    "id": "yMqXhQgczfeV"
   },
   "outputs": [],
   "source": [
    "newMonth = month;\n",
    "newYear = year;\n",
    "if day == 1:\n",
    "    if month == 1:\n",
    "        newYear = year-1;\n",
    "\n",
    "newMonth = monthList[month-1];\n",
    "\n",
    "    if(newMonth == 2):\n",
    "        if(newYear%4==0):\n",
    "            newDay = 28\n",
    "        else:\n",
    "            newDay = 27\n",
    "    else:\n",
    "        newDay = dayList[newMonth-1];\n",
    "else:\n",
    "    newDay=--day;"
   ]
  },
  {
   "cell_type": "code",
   "execution_count": 50,
   "metadata": {
    "colab": {
     "base_uri": "https://localhost:8080/",
     "height": 34
    },
    "colab_type": "code",
    "executionInfo": {
     "elapsed": 907,
     "status": "ok",
     "timestamp": 1555137421672,
     "user": {
      "displayName": "yash saboo",
      "photoUrl": "https://lh5.googleusercontent.com/-j0O-8FwSgU8/AAAAAAAAAAI/AAAAAAAAACg/pEXjX1qhauo/s64/photo.jpg",
      "userId": "11757267231717315760"
     },
     "user_tz": -330
    },
    "id": "fr-J1FlX0b2e",
    "outputId": "2c0e5d47-dcb8-495c-d680-15d41acc7c39"
   },
   "outputs": [
    {
     "name": "stdout",
     "output_type": "stream",
     "text": [
      "1 / 3 / 2019\n"
     ]
    }
   ],
   "source": [
    "print(day,\"/\",month,\"/\",year)"
   ]
  },
  {
   "cell_type": "code",
   "execution_count": 51,
   "metadata": {
    "colab": {
     "base_uri": "https://localhost:8080/",
     "height": 34
    },
    "colab_type": "code",
    "executionInfo": {
     "elapsed": 700,
     "status": "ok",
     "timestamp": 1555137421673,
     "user": {
      "displayName": "yash saboo",
      "photoUrl": "https://lh5.googleusercontent.com/-j0O-8FwSgU8/AAAAAAAAAAI/AAAAAAAAACg/pEXjX1qhauo/s64/photo.jpg",
      "userId": "11757267231717315760"
     },
     "user_tz": -330
    },
    "id": "VxxCh8G2W9M1",
    "outputId": "d7002cbd-5bac-4485-949c-951e2b3f0e3b"
   },
   "outputs": [
    {
     "name": "stdout",
     "output_type": "stream",
     "text": [
      "27 / 2 / 2019\n"
     ]
    }
   ],
   "source": [
    "print(newDay,\"/\",newMonth,\"/\",newYear)"
   ]
  },
  {
   "cell_type": "code",
   "execution_count": 0,
   "metadata": {
    "colab": {},
    "colab_type": "code",
    "id": "KMNMF3RGXII1"
   },
   "outputs": [],
   "source": []
  }
 ],
 "metadata": {
  "colab": {
   "name": "STQA Ass7.ipynb",
   "provenance": [],
   "version": "0.3.2"
  },
  "kernelspec": {
   "display_name": "Python 3",
   "language": "python",
   "name": "python3"
  },
  "language_info": {
   "codemirror_mode": {
    "name": "ipython",
    "version": 3
   },
   "file_extension": ".py",
   "mimetype": "text/x-python",
   "name": "python",
   "nbconvert_exporter": "python",
   "pygments_lexer": "ipython3",
   "version": "3.6.7"
  }
 },
 "nbformat": 4,
 "nbformat_minor": 1
}
